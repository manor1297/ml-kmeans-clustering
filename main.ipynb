{
  "cells": [
    {
      "cell_type": "code",
      "execution_count": 27,
      "metadata": {
        "colab": {
          "base_uri": "https://localhost:8080/"
        },
        "id": "VPtdO1H085iV",
        "outputId": "6b471fe5-eebb-4409-a119-c9cc9dcb1b0d"
      },
      "outputs": [
        {
          "name": "stdout",
          "output_type": "stream",
          "text": [
            "Requirement already satisfied: validclust in /usr/local/lib/python3.7/dist-packages (0.1.1)\n",
            "Requirement already satisfied: numpy>=1.16.5 in /usr/local/lib/python3.7/dist-packages (from validclust) (1.19.5)\n",
            "Requirement already satisfied: matplotlib in /usr/local/lib/python3.7/dist-packages (from validclust) (3.2.2)\n",
            "Requirement already satisfied: scikit-learn in /usr/local/lib/python3.7/dist-packages (from validclust) (0.22.2.post1)\n",
            "Requirement already satisfied: pandas in /usr/local/lib/python3.7/dist-packages (from validclust) (1.1.5)\n",
            "Requirement already satisfied: seaborn in /usr/local/lib/python3.7/dist-packages (from validclust) (0.11.2)\n",
            "Requirement already satisfied: packaging in /usr/local/lib/python3.7/dist-packages (from validclust) (21.2)\n",
            "Requirement already satisfied: python-dateutil>=2.1 in /usr/local/lib/python3.7/dist-packages (from matplotlib->validclust) (2.8.2)\n",
            "Requirement already satisfied: cycler>=0.10 in /usr/local/lib/python3.7/dist-packages (from matplotlib->validclust) (0.11.0)\n",
            "Requirement already satisfied: kiwisolver>=1.0.1 in /usr/local/lib/python3.7/dist-packages (from matplotlib->validclust) (1.3.2)\n",
            "Requirement already satisfied: pyparsing!=2.0.4,!=2.1.2,!=2.1.6,>=2.0.1 in /usr/local/lib/python3.7/dist-packages (from matplotlib->validclust) (2.4.7)\n",
            "Requirement already satisfied: six>=1.5 in /usr/local/lib/python3.7/dist-packages (from python-dateutil>=2.1->matplotlib->validclust) (1.15.0)\n",
            "Requirement already satisfied: pytz>=2017.2 in /usr/local/lib/python3.7/dist-packages (from pandas->validclust) (2018.9)\n",
            "Requirement already satisfied: joblib>=0.11 in /usr/local/lib/python3.7/dist-packages (from scikit-learn->validclust) (1.1.0)\n",
            "Requirement already satisfied: scipy>=0.17.0 in /usr/local/lib/python3.7/dist-packages (from scikit-learn->validclust) (1.4.1)\n"
          ]
        }
      ],
      "source": [
        "!pip install validclust\n",
        "import numpy as np\n",
        "import matplotlib.pyplot as plt\n",
        "from sklearn import datasets\n",
        "from sklearn.metrics import pairwise_distances\n",
        "from sklearn.cluster import KMeans\n",
        "from sklearn.metrics import silhouette_score\n",
        "import tensorflow as tf\n",
        "from keras.datasets import cifar10\n",
        "import cv2 \n",
        "import random\n",
        "from validclust import dunn\n",
        "from keras.layers import Dense,Conv2D,Flatten,MaxPooling2D,Input,Reshape,UpSampling2D,BatchNormalization\n",
        "from keras.models import Model,Sequential"
      ]
    },
    {
      "cell_type": "code",
      "execution_count": 28,
      "metadata": {
        "colab": {
          "base_uri": "https://localhost:8080/"
        },
        "id": "Tats6yqQ9p4B",
        "outputId": "78305585-1b42-4837-9efb-bc885a19e91f"
      },
      "outputs": [
        {
          "name": "stdout",
          "output_type": "stream",
          "text": [
            "Test: X=(10000, 32, 32, 3), y=(10000, 1)\n"
          ]
        }
      ],
      "source": [
        "#Loading data\n",
        "(trainX, trainy), (testX, testy) = cifar10.load_data()\n",
        "print('Test: X=%s, y=%s' % (testX.shape, testy.shape))"
      ]
    },
    {
      "cell_type": "code",
      "execution_count": 29,
      "metadata": {
        "id": "vk70nG0C9tuY"
      },
      "outputs": [],
      "source": [
        "#Converting image to grayscale to reduce dimensionality\n",
        "testX_gray = np.zeros((10000,32,32))\n",
        "for i, img in enumerate(testX):\n",
        "    testX_gray[i] = cv2.cvtColor(img, cv2.COLOR_BGR2GRAY)"
      ]
    },
    {
      "cell_type": "code",
      "execution_count": 30,
      "metadata": {
        "id": "M87a1uxX9v5G"
      },
      "outputs": [],
      "source": [
        "#Normalization\n",
        "testX_gray = testX_gray.reshape(len(testX_gray), -1)\n",
        "testX_gray = testX_gray.astype('float32')\n",
        "testX_gray = testX_gray/255.0"
      ]
    },
    {
      "cell_type": "code",
      "execution_count": 31,
      "metadata": {
        "colab": {
          "base_uri": "https://localhost:8080/"
        },
        "id": "0XiNaECX9x0W",
        "outputId": "f86aac12-8c99-41d6-d0e4-d8c627a54c61"
      },
      "outputs": [
        {
          "data": {
            "text/plain": [
              "(10000, 1024)"
            ]
          },
          "execution_count": 31,
          "metadata": {},
          "output_type": "execute_result"
        }
      ],
      "source": [
        "testX_gray.shape"
      ]
    },
    {
      "cell_type": "code",
      "execution_count": 32,
      "metadata": {
        "id": "HXDYx0Fx9yOe"
      },
      "outputs": [],
      "source": [
        "#Initializing all variables\n",
        "k = 10\n",
        "clusters = {}\n",
        "centroids = []\n",
        "labels = np.zeros(10000)\n",
        "for i in range(k):\n",
        "    clusters[i] = []"
      ]
    },
    {
      "cell_type": "code",
      "execution_count": 33,
      "metadata": {
        "id": "YJaERIK29z63"
      },
      "outputs": [],
      "source": [
        "#Choosing random images as initial clusters\n",
        "random.seed(4)\n",
        "r = random.sample(range(1,10000), 10)\n",
        "for i in r:\n",
        "    centroids.append(testX_gray[i])"
      ]
    },
    {
      "cell_type": "code",
      "execution_count": 34,
      "metadata": {
        "id": "ZJOleaHH92pd"
      },
      "outputs": [],
      "source": [
        "#Functions for recalculating clusters and centroids\n",
        "def new_clusters(testX_gray, centroids, k):\n",
        "    clusters = {}\n",
        "    for i in range(k):\n",
        "        clusters[i] = []\n",
        "    for i, image in enumerate(testX_gray):\n",
        "        dist = []\n",
        "        for j in range(k):\n",
        "            dist.append(np.linalg.norm(image - centroids[j]))\n",
        "        clusters[dist.index(min(dist))].append(image)\n",
        "        labels[i] = dist.index(min(dist))\n",
        "    return clusters\n",
        "\n",
        "def new_centroids(centroids, clusters, k):\n",
        "    centroids = []\n",
        "    for i in range(k):\n",
        "        centroids.append(np.average(clusters[i], axis=0))\n",
        "    return centroids"
      ]
    },
    {
      "cell_type": "code",
      "execution_count": 35,
      "metadata": {
        "id": "gJZbyHbg94Xe"
      },
      "outputs": [],
      "source": [
        "#Function for kmeans clustering\n",
        "def k_means_clustering(testX_gray, centroids=[], k=10, flag=1, count=0):\n",
        "    while flag:\n",
        "        old_centroids = centroids\n",
        "        clusters = new_clusters(testX_gray, centroids, k)  \n",
        "        centroids = new_centroids(centroids, clusters, k)\n",
        "        for i in range(k):\n",
        "            if not np.allclose(centroids[i], old_centroids[i], atol = 0.5):\n",
        "                flag = 1\n",
        "                break\n",
        "            flag = 0\n",
        "    \n",
        "    return clusters, centroids"
      ]
    },
    {
      "cell_type": "code",
      "execution_count": 10,
      "metadata": {
        "id": "W_WBF1Nc96Ia"
      },
      "outputs": [],
      "source": [
        "#Executing kmeans clustering\n",
        "clusters, centroids = k_means_clustering(testX_gray, centroids)"
      ]
    },
    {
      "cell_type": "code",
      "execution_count": 11,
      "metadata": {
        "id": "6bp51tFg97pA"
      },
      "outputs": [],
      "source": [
        "#Calculating distance matrix for dunn index\n",
        "pair_dist = pairwise_distances(testX_gray)"
      ]
    },
    {
      "cell_type": "code",
      "execution_count": 12,
      "metadata": {
        "colab": {
          "base_uri": "https://localhost:8080/"
        },
        "id": "6fRJdTU299fJ",
        "outputId": "f02908f4-62b1-496d-f727-bf17fac2f0a8"
      },
      "outputs": [
        {
          "name": "stdout",
          "output_type": "stream",
          "text": [
            "0.06360983\n"
          ]
        }
      ],
      "source": [
        "#Average Silhouette Coeficient\n",
        "print(silhouette_score(testX_gray, labels))"
      ]
    },
    {
      "cell_type": "code",
      "execution_count": 13,
      "metadata": {
        "colab": {
          "base_uri": "https://localhost:8080/"
        },
        "id": "em97Asww9_FW",
        "outputId": "ce5c82b7-c6c5-41ce-b0d0-32e8cbecb512"
      },
      "outputs": [
        {
          "name": "stdout",
          "output_type": "stream",
          "text": [
            "0.09712669\n"
          ]
        }
      ],
      "source": [
        "#Dunn's index\n",
        "print(dunn(pair_dist, labels))"
      ]
    },
    {
      "cell_type": "code",
      "execution_count": 36,
      "metadata": {
        "id": "4d9ZL23nXn-B"
      },
      "outputs": [],
      "source": [
        "#Normalizing training data for part 2\n",
        "trainX = trainX.astype('float32')\n",
        "trainX = trainX/255.0\n",
        "testX = testX.astype('float32')\n",
        "testX = testX/255.0"
      ]
    },
    {
      "cell_type": "code",
      "execution_count": 37,
      "metadata": {
        "id": "dJku2SQHBVsM"
      },
      "outputs": [],
      "source": [
        "#Constructing autoencoder\n",
        "autoencoder = Sequential()\n",
        "autoencoder.add(Conv2D(32, (3, 3), strides=(2,2), activation='relu', padding='same', input_shape=testX.shape[1:]))\n",
        "autoencoder.add(BatchNormalization())\n",
        "autoencoder.add(Conv2D(16, (3, 3), strides=(2,2), activation='relu', padding='same'))\n",
        "\n",
        "#For extracting encoded images \n",
        "autoencoder.add(Flatten())\n",
        "autoencoder.add(Reshape((8, 8, 16)))\n",
        "\n",
        "autoencoder.add(UpSampling2D((2, 2)))\n",
        "autoencoder.add(Conv2D(32, (3, 3), activation='relu', padding='same'))\n",
        "autoencoder.add(UpSampling2D((2, 2)))\n",
        "autoencoder.add(BatchNormalization())\n",
        "autoencoder.add(Conv2D(3, (3, 3), activation='sigmoid', padding='same'))"
      ]
    },
    {
      "cell_type": "code",
      "execution_count": 38,
      "metadata": {
        "colab": {
          "base_uri": "https://localhost:8080/"
        },
        "id": "KbBfnVB0-ERk",
        "outputId": "6df66ff9-08f8-46e4-96d8-cf7a602abd37"
      },
      "outputs": [
        {
          "name": "stdout",
          "output_type": "stream",
          "text": [
            "Model: \"sequential_2\"\n",
            "_________________________________________________________________\n",
            " Layer (type)                Output Shape              Param #   \n",
            "=================================================================\n",
            " conv2d_8 (Conv2D)           (None, 16, 16, 32)        896       \n",
            "                                                                 \n",
            " batch_normalization_4 (Batc  (None, 16, 16, 32)       128       \n",
            " hNormalization)                                                 \n",
            "                                                                 \n",
            " conv2d_9 (Conv2D)           (None, 8, 8, 16)          4624      \n",
            "                                                                 \n",
            " flatten_2 (Flatten)         (None, 1024)              0         \n",
            "                                                                 \n",
            " reshape_2 (Reshape)         (None, 8, 8, 16)          0         \n",
            "                                                                 \n",
            " up_sampling2d_4 (UpSampling  (None, 16, 16, 16)       0         \n",
            " 2D)                                                             \n",
            "                                                                 \n",
            " conv2d_10 (Conv2D)          (None, 16, 16, 32)        4640      \n",
            "                                                                 \n",
            " up_sampling2d_5 (UpSampling  (None, 32, 32, 32)       0         \n",
            " 2D)                                                             \n",
            "                                                                 \n",
            " batch_normalization_5 (Batc  (None, 32, 32, 32)       128       \n",
            " hNormalization)                                                 \n",
            "                                                                 \n",
            " conv2d_11 (Conv2D)          (None, 32, 32, 3)         867       \n",
            "                                                                 \n",
            "=================================================================\n",
            "Total params: 11,283\n",
            "Trainable params: 11,155\n",
            "Non-trainable params: 128\n",
            "_________________________________________________________________\n"
          ]
        }
      ],
      "source": [
        "autoencoder.summary()"
      ]
    },
    {
      "cell_type": "code",
      "execution_count": 40,
      "metadata": {
        "colab": {
          "base_uri": "https://localhost:8080/"
        },
        "id": "OfFdvbfV-F2-",
        "outputId": "d0effa4a-1a70-419c-f389-7311275d0e36"
      },
      "outputs": [
        {
          "name": "stdout",
          "output_type": "stream",
          "text": [
            "Model: \"model_2\"\n",
            "_________________________________________________________________\n",
            " Layer (type)                Output Shape              Param #   \n",
            "=================================================================\n",
            " conv2d_8_input (InputLayer)  [(None, 32, 32, 3)]      0         \n",
            "                                                                 \n",
            " conv2d_8 (Conv2D)           (None, 16, 16, 32)        896       \n",
            "                                                                 \n",
            " batch_normalization_4 (Batc  (None, 16, 16, 32)       128       \n",
            " hNormalization)                                                 \n",
            "                                                                 \n",
            " conv2d_9 (Conv2D)           (None, 8, 8, 16)          4624      \n",
            "                                                                 \n",
            " flatten_2 (Flatten)         (None, 1024)              0         \n",
            "                                                                 \n",
            "=================================================================\n",
            "Total params: 5,648\n",
            "Trainable params: 5,584\n",
            "Non-trainable params: 64\n",
            "_________________________________________________________________\n"
          ]
        }
      ],
      "source": [
        "#Extracting encoded images\n",
        "encoder = Model(inputs=autoencoder.input, outputs=autoencoder.get_layer('flatten').output)\n",
        "encoder.summary()"
      ]
    },
    {
      "cell_type": "code",
      "execution_count": 41,
      "metadata": {
        "colab": {
          "base_uri": "https://localhost:8080/"
        },
        "id": "K71vkleq-IKT",
        "outputId": "5e2b6ae3-7c3e-4df1-f202-4c21b00a92cf"
      },
      "outputs": [
        {
          "name": "stdout",
          "output_type": "stream",
          "text": [
            "Epoch 1/50\n",
            "391/391 [==============================] - 9s 20ms/step - loss: 0.0094 - val_loss: 0.0075\n",
            "Epoch 2/50\n",
            "391/391 [==============================] - 7s 19ms/step - loss: 0.0040 - val_loss: 0.0035\n",
            "Epoch 3/50\n",
            "391/391 [==============================] - 7s 19ms/step - loss: 0.0032 - val_loss: 0.0032\n",
            "Epoch 4/50\n",
            "391/391 [==============================] - 7s 19ms/step - loss: 0.0028 - val_loss: 0.0028\n",
            "Epoch 5/50\n",
            "391/391 [==============================] - 7s 19ms/step - loss: 0.0026 - val_loss: 0.0027\n",
            "Epoch 6/50\n",
            "391/391 [==============================] - 7s 19ms/step - loss: 0.0025 - val_loss: 0.0023\n",
            "Epoch 7/50\n",
            "391/391 [==============================] - 7s 19ms/step - loss: 0.0025 - val_loss: 0.0024\n",
            "Epoch 8/50\n",
            "391/391 [==============================] - 7s 19ms/step - loss: 0.0024 - val_loss: 0.0023\n",
            "Epoch 9/50\n",
            "391/391 [==============================] - 8s 19ms/step - loss: 0.0024 - val_loss: 0.0024\n",
            "Epoch 10/50\n",
            "391/391 [==============================] - 8s 21ms/step - loss: 0.0023 - val_loss: 0.0021\n",
            "Epoch 11/50\n",
            "391/391 [==============================] - 8s 20ms/step - loss: 0.0023 - val_loss: 0.0024\n",
            "Epoch 12/50\n",
            "391/391 [==============================] - 8s 20ms/step - loss: 0.0023 - val_loss: 0.0024\n",
            "Epoch 13/50\n",
            "391/391 [==============================] - 8s 19ms/step - loss: 0.0022 - val_loss: 0.0021\n",
            "Epoch 14/50\n",
            "391/391 [==============================] - 7s 19ms/step - loss: 0.0022 - val_loss: 0.0022\n",
            "Epoch 15/50\n",
            "391/391 [==============================] - 8s 20ms/step - loss: 0.0022 - val_loss: 0.0022\n",
            "Epoch 16/50\n",
            "391/391 [==============================] - 8s 20ms/step - loss: 0.0022 - val_loss: 0.0021\n",
            "Epoch 17/50\n",
            "391/391 [==============================] - 8s 20ms/step - loss: 0.0022 - val_loss: 0.0021\n",
            "Epoch 18/50\n",
            "391/391 [==============================] - 7s 19ms/step - loss: 0.0022 - val_loss: 0.0023\n",
            "Epoch 19/50\n",
            "391/391 [==============================] - 7s 19ms/step - loss: 0.0021 - val_loss: 0.0023\n",
            "Epoch 20/50\n",
            "391/391 [==============================] - 8s 20ms/step - loss: 0.0021 - val_loss: 0.0029\n",
            "Epoch 21/50\n",
            "391/391 [==============================] - 8s 20ms/step - loss: 0.0021 - val_loss: 0.0020\n",
            "Epoch 22/50\n",
            "391/391 [==============================] - 8s 20ms/step - loss: 0.0021 - val_loss: 0.0019\n",
            "Epoch 23/50\n",
            "391/391 [==============================] - 8s 20ms/step - loss: 0.0021 - val_loss: 0.0025\n",
            "Epoch 24/50\n",
            "391/391 [==============================] - 8s 20ms/step - loss: 0.0020 - val_loss: 0.0020\n",
            "Epoch 25/50\n",
            "391/391 [==============================] - 8s 20ms/step - loss: 0.0020 - val_loss: 0.0026\n",
            "Epoch 26/50\n",
            "391/391 [==============================] - 8s 20ms/step - loss: 0.0020 - val_loss: 0.0022\n",
            "Epoch 27/50\n",
            "391/391 [==============================] - 8s 19ms/step - loss: 0.0020 - val_loss: 0.0026\n",
            "Epoch 28/50\n",
            "391/391 [==============================] - 8s 19ms/step - loss: 0.0020 - val_loss: 0.0020\n",
            "Epoch 29/50\n",
            "391/391 [==============================] - 7s 19ms/step - loss: 0.0020 - val_loss: 0.0018\n",
            "Epoch 30/50\n",
            "391/391 [==============================] - 7s 19ms/step - loss: 0.0019 - val_loss: 0.0019\n",
            "Epoch 31/50\n",
            "391/391 [==============================] - 9s 22ms/step - loss: 0.0019 - val_loss: 0.0019\n",
            "Epoch 32/50\n",
            "391/391 [==============================] - 9s 24ms/step - loss: 0.0019 - val_loss: 0.0018\n",
            "Epoch 33/50\n",
            "391/391 [==============================] - 9s 23ms/step - loss: 0.0019 - val_loss: 0.0018\n",
            "Epoch 34/50\n",
            "391/391 [==============================] - 9s 23ms/step - loss: 0.0019 - val_loss: 0.0018\n",
            "Epoch 35/50\n",
            "391/391 [==============================] - 9s 22ms/step - loss: 0.0019 - val_loss: 0.0019\n",
            "Epoch 36/50\n",
            "391/391 [==============================] - 8s 22ms/step - loss: 0.0018 - val_loss: 0.0018\n",
            "Epoch 37/50\n",
            "391/391 [==============================] - 8s 21ms/step - loss: 0.0018 - val_loss: 0.0018\n",
            "Epoch 38/50\n",
            "391/391 [==============================] - 8s 21ms/step - loss: 0.0018 - val_loss: 0.0019\n",
            "Epoch 39/50\n",
            "391/391 [==============================] - 8s 20ms/step - loss: 0.0018 - val_loss: 0.0017\n",
            "Epoch 40/50\n",
            "391/391 [==============================] - 8s 19ms/step - loss: 0.0018 - val_loss: 0.0019\n",
            "Epoch 41/50\n",
            "391/391 [==============================] - 7s 19ms/step - loss: 0.0018 - val_loss: 0.0019\n",
            "Epoch 42/50\n",
            "391/391 [==============================] - 7s 19ms/step - loss: 0.0018 - val_loss: 0.0019\n",
            "Epoch 43/50\n",
            "391/391 [==============================] - 7s 19ms/step - loss: 0.0018 - val_loss: 0.0018\n",
            "Epoch 44/50\n",
            "391/391 [==============================] - 7s 19ms/step - loss: 0.0018 - val_loss: 0.0019\n",
            "Epoch 45/50\n",
            "391/391 [==============================] - 7s 19ms/step - loss: 0.0018 - val_loss: 0.0020\n",
            "Epoch 46/50\n",
            "391/391 [==============================] - 7s 19ms/step - loss: 0.0018 - val_loss: 0.0017\n",
            "Epoch 47/50\n",
            "391/391 [==============================] - 7s 19ms/step - loss: 0.0018 - val_loss: 0.0020\n",
            "Epoch 48/50\n",
            "391/391 [==============================] - 7s 19ms/step - loss: 0.0018 - val_loss: 0.0017\n",
            "Epoch 49/50\n",
            "391/391 [==============================] - 7s 19ms/step - loss: 0.0018 - val_loss: 0.0018\n",
            "Epoch 50/50\n",
            "391/391 [==============================] - 7s 19ms/step - loss: 0.0018 - val_loss: 0.0019\n"
          ]
        }
      ],
      "source": [
        "#Fitting autoencoder on training data\n",
        "autoencoder.compile(optimizer='adam', loss='mean_squared_error')\n",
        "trained_autoencoder = autoencoder.fit(trainX, trainX,\n",
        "                epochs=50,\n",
        "                batch_size=128,\n",
        "                validation_data=(testX, testX))"
      ]
    },
    {
      "cell_type": "code",
      "execution_count": 42,
      "metadata": {
        "id": "NJ7SIb0OYYwg"
      },
      "outputs": [],
      "source": [
        "trainX_auto = autoencoder.predict(trainX) #autoencoder\n",
        "trainX_enc = encoder.predict(trainX) #encoded"
      ]
    },
    {
      "cell_type": "code",
      "execution_count": 43,
      "metadata": {
        "colab": {
          "base_uri": "https://localhost:8080/",
          "height": 443
        },
        "id": "yWc6O9FhW8lJ",
        "outputId": "e37f1666-ce04-40ad-97a4-ce2c3770b4b7"
      },
      "outputs": [
        {
          "data": {
            "image/png": "[encoded data removed]",
            "text/plain": [
              "<Figure size 720x720 with 10 Axes>"
            ]
          },
          "metadata": {},
          "output_type": "display_data"
        }
      ],
      "source": [
        "#Displaying first 5 images of training data and autoencoder generated data\n",
        "fig = plt.figure(figsize=(10, 10))\n",
        "for i in range(1, 6):\n",
        "    img = trainX[i-1]\n",
        "    fig.add_subplot(2, 5, i)\n",
        "    plt.xticks([])\n",
        "    plt.yticks([])\n",
        "    plt.grid(False)\n",
        "    plt.imshow(img)\n",
        "for i in range(1, 6):\n",
        "    img = trainX_auto[i-1]\n",
        "    fig.add_subplot(2, 5, i+5)\n",
        "    plt.xticks([])\n",
        "    plt.yticks([])\n",
        "    plt.grid(False)\n",
        "    plt.imshow(img)\n",
        "plt.tight_layout()\n",
        "plt.subplots_adjust(wspace=None, hspace=None)\n",
        "plt.show()"
      ]
    },
    {
      "cell_type": "code",
      "execution_count": 44,
      "metadata": {
        "id": "n9_eIChuGmsa"
      },
      "outputs": [],
      "source": [
        "kmeans = KMeans(n_clusters=10).fit(trainX_enc)\n",
        "labels_kmeans = kmeans.labels_"
      ]
    },
    {
      "cell_type": "code",
      "execution_count": 45,
      "metadata": {
        "colab": {
          "base_uri": "https://localhost:8080/"
        },
        "id": "0CS4EGCC-7nc",
        "outputId": "cc372d41-2fe7-44c6-a53a-48fe3554db00"
      },
      "outputs": [
        {
          "name": "stdout",
          "output_type": "stream",
          "text": [
            "0.017512273\n"
          ]
        }
      ],
      "source": [
        "#Average Silhouette Coeficient\n",
        "print(silhouette_score(trainX_enc, labels_kmeans))"
      ]
    }
  ],
  "metadata": {
    "accelerator": "GPU",
    "colab": {
      "name": "Assignment2.ipynb",
      "provenance": []
    },
    "kernelspec": {
      "display_name": "Python 3",
      "name": "python3"
    },
    "language_info": {
      "name": "python"
    }
  },
  "nbformat": 4,
  "nbformat_minor": 0
}
